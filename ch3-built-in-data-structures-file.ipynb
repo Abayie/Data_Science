{
 "cells": [
  {
   "cell_type": "markdown",
   "metadata": {},
   "source": [
    "# Tuple\n",
    "A tuple is a fixed-length, immutable sequence of Python objects which, once assigned, cannot be changed. The easiest way to create one is with a comma-separated sequence of values wrapped in parentheses:"
   ]
  },
  {
   "cell_type": "code",
   "execution_count": null,
   "metadata": {},
   "outputs": [
    {
     "data": {
      "text/plain": [
       "(1, 67, 89, 45, 23, 90, 34, 56, 78, 12)"
      ]
     },
     "execution_count": 5,
     "metadata": {},
     "output_type": "execute_result"
    }
   ],
   "source": [
    "tupe =(1, 67, 89, 45, 23, 90, 34, 56, 78, 12) # tuple\n",
    "tupe # print tupe"
   ]
  },
  {
   "cell_type": "code",
   "execution_count": 4,
   "metadata": {},
   "outputs": [
    {
     "data": {
      "text/plain": [
       "tuple"
      ]
     },
     "execution_count": 4,
     "metadata": {},
     "output_type": "execute_result"
    }
   ],
   "source": [
    "type(tupe)"
   ]
  },
  {
   "cell_type": "markdown",
   "metadata": {},
   "source": [
    "In many contexts the paranthesis can be omitted, we could have written as:"
   ]
  },
  {
   "cell_type": "code",
   "execution_count": 6,
   "metadata": {},
   "outputs": [
    {
     "data": {
      "text/plain": [
       "(1, 67, 89, 45, 23, 90, 34, 56, 78, 12)"
      ]
     },
     "execution_count": 6,
     "metadata": {},
     "output_type": "execute_result"
    }
   ],
   "source": [
    "tupe = 1, 67, 89, 45, 23, 90, 34, 56, 78, 12 # tuple\n",
    "tupe # print tupe"
   ]
  },
  {
   "cell_type": "code",
   "execution_count": 7,
   "metadata": {},
   "outputs": [
    {
     "data": {
      "text/plain": [
       "tuple"
      ]
     },
     "execution_count": 7,
     "metadata": {},
     "output_type": "execute_result"
    }
   ],
   "source": [
    "type(tupe)"
   ]
  },
  {
   "cell_type": "markdown",
   "metadata": {},
   "source": [
    "Any sequence or iterator can be converted to tuple by invoking tuple:"
   ]
  },
  {
   "cell_type": "code",
   "execution_count": 8,
   "metadata": {},
   "outputs": [
    {
     "data": {
      "text/plain": [
       "(4, 0, 9)"
      ]
     },
     "execution_count": 8,
     "metadata": {},
     "output_type": "execute_result"
    }
   ],
   "source": [
    "tuple([4,0,9])"
   ]
  },
  {
   "cell_type": "code",
   "execution_count": 9,
   "metadata": {},
   "outputs": [],
   "source": [
    "tup = tuple('string')"
   ]
  },
  {
   "cell_type": "code",
   "execution_count": null,
   "metadata": {},
   "outputs": [
    {
     "data": {
      "text/plain": [
       "('s', 't', 'r', 'i', 'n', 'g')"
      ]
     },
     "execution_count": 10,
     "metadata": {},
     "output_type": "execute_result"
    }
   ],
   "source": [
    "tup # print tup"
   ]
  },
  {
   "cell_type": "markdown",
   "metadata": {},
   "source": [
    "Elements can be accessed by the use of square brackets []"
   ]
  },
  {
   "cell_type": "code",
   "execution_count": 13,
   "metadata": {},
   "outputs": [
    {
     "data": {
      "text/plain": [
       "'g'"
      ]
     },
     "execution_count": 13,
     "metadata": {},
     "output_type": "execute_result"
    }
   ],
   "source": [
    "tup[5]"
   ]
  },
  {
   "cell_type": "code",
   "execution_count": 14,
   "metadata": {},
   "outputs": [
    {
     "data": {
      "text/plain": [
       "((4, 5, 6), (7, 8))"
      ]
     },
     "execution_count": 14,
     "metadata": {},
     "output_type": "execute_result"
    }
   ],
   "source": [
    "#nested tuple\n",
    "nested_tup = (4, 5, 6), (7, 8)\n",
    "nested_tup # print nested_tup"
   ]
  },
  {
   "cell_type": "code",
   "execution_count": 15,
   "metadata": {},
   "outputs": [
    {
     "data": {
      "text/plain": [
       "(7, 8)"
      ]
     },
     "execution_count": 15,
     "metadata": {},
     "output_type": "execute_result"
    }
   ],
   "source": [
    "nested_tup[1] # print nested_tup[1]"
   ]
  },
  {
   "cell_type": "code",
   "execution_count": 16,
   "metadata": {},
   "outputs": [
    {
     "ename": "TypeError",
     "evalue": "'tuple' object does not support item assignment",
     "output_type": "error",
     "traceback": [
      "\u001b[31m---------------------------------------------------------------------------\u001b[39m",
      "\u001b[31mTypeError\u001b[39m                                 Traceback (most recent call last)",
      "\u001b[36mCell\u001b[39m\u001b[36m \u001b[39m\u001b[32mIn[16]\u001b[39m\u001b[32m, line 4\u001b[39m\n\u001b[32m      1\u001b[39m \u001b[33;03m''' While the objects stored in a tuple may be mutable themselves, once the tuple is\u001b[39;00m\n\u001b[32m      2\u001b[39m \u001b[33;03mcreated it’s not possible to modify which object is stored in each slot: '''\u001b[39;00m\n\u001b[32m      3\u001b[39m tup = \u001b[38;5;28mtuple\u001b[39m([\u001b[33m'\u001b[39m\u001b[33mfoo\u001b[39m\u001b[33m'\u001b[39m, [\u001b[32m1\u001b[39m, \u001b[32m2\u001b[39m], \u001b[38;5;28;01mTrue\u001b[39;00m]) \u001b[38;5;66;03m# tuple\u001b[39;00m\n\u001b[32m----> \u001b[39m\u001b[32m4\u001b[39m \u001b[43mtup\u001b[49m\u001b[43m \u001b[49m\u001b[43m[\u001b[49m\u001b[32;43m2\u001b[39;49m\u001b[43m]\u001b[49m = \u001b[38;5;28;01mFalse\u001b[39;00m \u001b[38;5;66;03m# try to change the value of the tuple\u001b[39;00m\n",
      "\u001b[31mTypeError\u001b[39m: 'tuple' object does not support item assignment"
     ]
    }
   ],
   "source": [
    "''' While the objects stored in a tuple may be mutable themselves, once the tuple is\n",
    "created it’s not possible to modify which object is stored in each slot: '''\n",
    "tup = tuple(['foo', [1, 2], True]) # tuple\n",
    "tup [2] = False # try to change the value of the tuple\n"
   ]
  },
  {
   "cell_type": "code",
   "execution_count": 22,
   "metadata": {},
   "outputs": [
    {
     "name": "stdout",
     "output_type": "stream",
     "text": [
      "('foo', [1, 2, 3], True)\n",
      "(4, None, 'foo', 6, 0, 'bar')\n",
      "('foo', 'bar', 'foo', 'bar', 'foo', 'bar', 'foo', 'bar')\n"
     ]
    }
   ],
   "source": [
    "tup = tuple(['foo', [1, 2], True]) \n",
    "tup[1].append(3) # add 3 to the list in the tuple\n",
    "print(tup) # print tup\n",
    "\n",
    "tup1 = (4, None, 'foo') + (6, 0) + ('bar',) # concatenate tuples\n",
    "print(tup1) # print tup1\n",
    "\n",
    "tup2 =('foo', 'bar') * 4 # multiply tuples\n",
    "print(tup2)"
   ]
  },
  {
   "cell_type": "code",
   "execution_count": 25,
   "metadata": {},
   "outputs": [
    {
     "name": "stdout",
     "output_type": "stream",
     "text": [
      "5\n",
      "4\n",
      "6\n"
     ]
    }
   ],
   "source": [
    "# Unpacking tuples\n",
    "tup = (4, 5, 6) # tuple\n",
    "a, b, c = tup # unpack tuple\n",
    "print(b) # print b\n",
    "print(a) # print a\n",
    "print(c) # print c"
   ]
  }
 ],
 "metadata": {
  "kernelspec": {
   "display_name": ".venv",
   "language": "python",
   "name": "python3"
  },
  "language_info": {
   "codemirror_mode": {
    "name": "ipython",
    "version": 3
   },
   "file_extension": ".py",
   "mimetype": "text/x-python",
   "name": "python",
   "nbconvert_exporter": "python",
   "pygments_lexer": "ipython3",
   "version": "3.12.9"
  }
 },
 "nbformat": 4,
 "nbformat_minor": 2
}
